{
 "cells": [
  {
   "cell_type": "code",
   "execution_count": 31,
   "metadata": {},
   "outputs": [],
   "source": [
    "class Veiculo():\n",
    "    def __init__(self, modelo, ano, consumo, tanqueMaximo, tanqueAtual, velocidadeMax):\n",
    "        self.__modelo = modelo\n",
    "        self.__ano = ano\n",
    "        self.__consumo = consumo\n",
    "        self.__tanqueMax = tanqueMaximo\n",
    "        self.__tanqueAtual = tanqueAtual\n",
    "        self.__velocidadeMax = velocidadeMax\n",
    "\n",
    "    def consumoDistancia(self, distanciaKM):\n",
    "        consumo = distanciaKM/self.__consumo\n",
    "        self.__tanqueAtual -= consumo\n",
    "        print(\"Quantidade de combustivel consumido: {} L\".format(consumo))\n",
    "        print(\"Quantidade de combustivel no tanque: {} L\".format(self.__tanqueAtual))\n",
    "    \n",
    "    def abastece(self, litros):\n",
    "        if(self.__tanqueAtual + litros <= self.__tanqueMax):\n",
    "            self.__tanqueAtual += litros\n",
    "            print(\"Quantidade atual de combustivel: {} L\".format(self.__tanqueAtual))\n",
    "        \n",
    "        else:\n",
    "            return False\n",
    "    \n",
    "    def extratoGeral(self):\n",
    "        print(self.__tanqueAtual)"
   ]
  },
  {
   "cell_type": "code",
   "execution_count": 32,
   "metadata": {},
   "outputs": [],
   "source": [
    "class bombaCombustivel(Veiculo):\n",
    "    def __init__(self, tipoCombustivel, valorLitro, quantidadeCombustivel):\n",
    "        self.__tipoCombustivel = tipoCombustivel\n",
    "        self.__valorLitro = valorLitro\n",
    "        self.__quantidadeCombustivel = quantidadeCombustivel\n",
    "    \n",
    "    def abastecerPorValor(self, valor, Veiculo):\n",
    "        manipulaCombustivelValor = round(valor/self.__valorLitro, 2)\n",
    "        print(\"Abastecido {} Litros de {}\" .format(manipulaCombustivelValor, self.__tipoCombustivel)) \n",
    "        Veiculo.abastece(manipulaCombustivelValor)  \n",
    "        self.alterarQuantidadeCombustivel(self.__quantidadeCombustivel - manipulaCombustivelValor) \n",
    "    \n",
    "    def abastecerPorLitro(self, litro, veiculo):\n",
    "        manipulaCombustivelLitro = round(self.__valorLitro*litro, 2)\n",
    "        print(\"Abastecido {} Reais de {}\" .format(manipulaCombustivelLitro, self.__tipoCombustivel))\n",
    "        self.alterarQuantidadeCombustivel(self.__quantidadeCombustivel - litro) \n",
    "\n",
    "    def alterarValor(self, novoValor):\n",
    "        self.__valorLitro = novoValor\n",
    "        print(\"O novo valor por litro de {} é: R$ {}\".format(self.__tipoCombustivel, self.__valorLitro))\n",
    "\n",
    "    def alterarCombustivel(self, novoTipo):\n",
    "        self.__tipoCombustivel = novoTipo\n",
    "        print(\"O novo tipo de combustível é: {}\".format(self.__tipoCombustivel))\n",
    "\n",
    "    def alterarQuantidadeCombustivel(self, novaQuantidade):\n",
    "        print(\"Quantidade de Combustível anterior: {} L\".format(self.__quantidadeCombustivel))\n",
    "\n",
    "        self.__quantidadeCombustivel = novaQuantidade\n",
    "        \n",
    "        print(\"Quantidade de Combustível atual: {} L\".format(self.__quantidadeCombustivel))\n",
    "        \n",
    "    def mostraQuantidade(self):\n",
    "        print(\"A quantidade de combustivel é: {} L\".format(self.__quantidadeCombustivel))\n",
    "\n",
    "    def extratoBomba(self):\n",
    "        print(self.__quantidadeCombustivel)"
   ]
  },
  {
   "cell_type": "code",
   "execution_count": 33,
   "metadata": {},
   "outputs": [],
   "source": [
    "bomba = bombaCombustivel(\"galosina\", 7, 10000)\n",
    "celta = Veiculo(\"celta\", 2008, 10, 54, 22, 155)"
   ]
  },
  {
   "cell_type": "code",
   "execution_count": 34,
   "metadata": {},
   "outputs": [
    {
     "name": "stdout",
     "output_type": "stream",
     "text": [
      "Abastecido 140 Reais de galosina\n",
      "Quantidade de Combustível anterior: 10000 L\n",
      "Quantidade de Combustível atual: 9980 L\n",
      "\n"
     ]
    }
   ],
   "source": [
    "abasteceLitro = bomba.abastecerPorLitro(20, celta)\n",
    "print()"
   ]
  },
  {
   "cell_type": "code",
   "execution_count": 35,
   "metadata": {},
   "outputs": [
    {
     "name": "stdout",
     "output_type": "stream",
     "text": [
      "Abastecido 2.86 Litros de galosina\n",
      "Quantidade atual de combustivel: 24.86 L\n",
      "Quantidade de Combustível anterior: 9980 L\n",
      "Quantidade de Combustível atual: 9977.14 L\n"
     ]
    }
   ],
   "source": [
    "abasteceValor = bomba.abastecerPorValor(20, celta)\n"
   ]
  },
  {
   "cell_type": "code",
   "execution_count": 36,
   "metadata": {},
   "outputs": [
    {
     "name": "stdout",
     "output_type": "stream",
     "text": [
      "24.86\n",
      "\n"
     ]
    }
   ],
   "source": [
    "celta.extratoGeral()\n",
    "print()"
   ]
  }
 ],
 "metadata": {
  "kernelspec": {
   "display_name": "Python 3.10.6 64-bit",
   "language": "python",
   "name": "python3"
  },
  "language_info": {
   "codemirror_mode": {
    "name": "ipython",
    "version": 3
   },
   "file_extension": ".py",
   "mimetype": "text/x-python",
   "name": "python",
   "nbconvert_exporter": "python",
   "pygments_lexer": "ipython3",
   "version": "3.10.6"
  },
  "orig_nbformat": 4,
  "vscode": {
   "interpreter": {
    "hash": "5b6070c83d296920fc65e9ae97ee64a9ffac525218e228a47c2d79cf3955b9fd"
   }
  }
 },
 "nbformat": 4,
 "nbformat_minor": 2
}
