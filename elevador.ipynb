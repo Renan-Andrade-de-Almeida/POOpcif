{
 "cells": [
  {
   "cell_type": "code",
   "execution_count": 54,
   "metadata": {},
   "outputs": [],
   "source": [
    "class Elevador:\n",
    "    def __init__(self, capacidade, totalAndares):\n",
    "        self.__andarAtual = 0\n",
    "        self.__totalAndares = totalAndares\n",
    "        self.__capacidade = capacidade\n",
    "        self.__pessoas = 0\n",
    "\n",
    "    \n",
    "    #get set inicio\n",
    "\n",
    "    def get_andarAtual(self):\n",
    "        return self.__andarAtual\n",
    "\n",
    "    def set_andarAtual(self, novo):\n",
    "        self.__andarAtual = novo\n",
    "\n",
    "    def get_totalAndares(self):\n",
    "        return self.__totalAndares\n",
    "\n",
    "    def set_totalAndares(self, novo):\n",
    "        self.__totalAndares = novo\n",
    "\n",
    "    def get_capacidade(self):\n",
    "        return self.__capacidade\n",
    "\n",
    "    def set_capacidade(self, novo):\n",
    "        self.__capacidade = novo\n",
    "\n",
    "    def get_ocupantes(self):\n",
    "        return self.__pessoas\n",
    "\n",
    "    def set_ocupantes(self, novo):\n",
    "        self.__pessoas = novo\n",
    "\n",
    "    #get set fim\n",
    "\n",
    "\n",
    "    def Entrar(self, quantidade):\n",
    "        if((self.__pessoas + quantidade) < self.__capacidade):\n",
    "            self.__pessoas += quantidade\n",
    "        else:\n",
    "            print(\"Elevador com capacidade maxíma!\")\n",
    "\n",
    "    def Sair(self, quantidade):\n",
    "        if((self.__pessoas - quantidade) > 0):\n",
    "            self.__pessoas -= quantidade\n",
    "        else:\n",
    "            print(\"Elevador vazio! não há mais ninguém para sair.\")\n",
    "\n",
    "    def Subir(self, quantidade):\n",
    "        if((self.__andarAtual + quantidade) < self.__totalAndares):\n",
    "            self.__andarAtual += quantidade\n",
    "        else:\n",
    "            print(\"Não da pra subir aí!\")\n",
    "\n",
    "    def Descer(self, quantidade):\n",
    "        if((self.__andarAtual - quantidade) > 0):\n",
    "            self.__andarAtual -= quantidade\n",
    "        else:\n",
    "            print(\"Já estamos no térreo ou não há tantos andares abaixo!\")\n",
    "\n",
    "    def mostra(self):\n",
    "        print(\"<--- Elevador ---> \\n Total de andares do prédio: {} \\n Capacidade total do elevador: {} \\n <------   ------> \\n Andar atual: {} \\n total de pessoas no elevador: {}\".format(self.__totalAndares, self.__capacidade, self.__andarAtual, self.__pessoas))"
   ]
  },
  {
   "cell_type": "code",
   "execution_count": 55,
   "metadata": {},
   "outputs": [],
   "source": [
    "elevador = Elevador(5, 6)"
   ]
  },
  {
   "cell_type": "code",
   "execution_count": 56,
   "metadata": {},
   "outputs": [
    {
     "name": "stdout",
     "output_type": "stream",
     "text": [
      "<--- Elevador ---> \n",
      " Total de andares do prédio: 6 \n",
      " Capacidade total do elevador: 5 \n",
      " <------   ------> \n",
      " Andar atual: 0 \n",
      " total de pessoas no elevador: 0\n"
     ]
    }
   ],
   "source": [
    "elevador.mostra()"
   ]
  },
  {
   "cell_type": "code",
   "execution_count": 57,
   "metadata": {},
   "outputs": [
    {
     "name": "stdout",
     "output_type": "stream",
     "text": [
      "<--- Elevador ---> \n",
      " Total de andares do prédio: 6 \n",
      " Capacidade total do elevador: 5 \n",
      " <------   ------> \n",
      " Andar atual: 4 \n",
      " total de pessoas no elevador: 4\n"
     ]
    }
   ],
   "source": [
    "elevador.Entrar(4)\n",
    "elevador.Subir(4)\n",
    "elevador.mostra()"
   ]
  },
  {
   "cell_type": "code",
   "execution_count": 58,
   "metadata": {},
   "outputs": [
    {
     "name": "stdout",
     "output_type": "stream",
     "text": [
      "Elevador com capacidade maxíma!\n",
      "Não da pra subir aí!\n",
      "<--- Elevador ---> \n",
      " Total de andares do prédio: 6 \n",
      " Capacidade total do elevador: 5 \n",
      " <------   ------> \n",
      " Andar atual: 4 \n",
      " total de pessoas no elevador: 4\n"
     ]
    }
   ],
   "source": [
    "elevador.Entrar(2)\n",
    "elevador.Subir(3)\n",
    "elevador.mostra()"
   ]
  }
 ],
 "metadata": {
  "kernelspec": {
   "display_name": "Python 3.10.6 64-bit",
   "language": "python",
   "name": "python3"
  },
  "language_info": {
   "codemirror_mode": {
    "name": "ipython",
    "version": 3
   },
   "file_extension": ".py",
   "mimetype": "text/x-python",
   "name": "python",
   "nbconvert_exporter": "python",
   "pygments_lexer": "ipython3",
   "version": "3.10.6"
  },
  "orig_nbformat": 4,
  "vscode": {
   "interpreter": {
    "hash": "5b6070c83d296920fc65e9ae97ee64a9ffac525218e228a47c2d79cf3955b9fd"
   }
  }
 },
 "nbformat": 4,
 "nbformat_minor": 2
}
