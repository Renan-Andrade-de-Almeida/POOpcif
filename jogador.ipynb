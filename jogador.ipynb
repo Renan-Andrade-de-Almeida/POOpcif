{
 "cells": [
  {
   "cell_type": "code",
   "execution_count": null,
   "metadata": {},
   "outputs": [],
   "source": [
    "class Jogador:\n",
    "    def __init__(self, nome, nacionalidade, altura, peso, posicao, nascimento):\n",
    "        self.__nome = nome\n",
    "        self.__nacionalidade = nacionalidade\n",
    "        self.__altura = altura\n",
    "        self.__peso = peso\n",
    "        self.__posicao = posicao\n",
    "        self.__nascimento = nascimento\n",
    "\n",
    "    def get_nome(self):\n",
    "        return self.__nome\n",
    "    def set_nome(self, novo):\n",
    "        self.__nome = novo\n",
    "\n",
    "    def get_nacionalidade(self):\n",
    "        return self.__nacionalidade\n",
    "    def set_nacionalidade(self, novo):\n",
    "        self.__nacionalidade = novo\n",
    "\n",
    "    def get_altura(self):\n",
    "        return self.__altura\n",
    "    def set_altura(self, novo):\n",
    "        self.__altura = novo\n",
    "\n",
    "    def get_peso(self):\n",
    "        return self.__peso\n",
    "    def set_peso(self, novo):\n",
    "        self.__peso = novo\n",
    "\n",
    "    def get_posicao(self):\n",
    "        return self.__posicao\n",
    "    def set_posicao(self, novo):\n",
    "        self.__posicao = novo\n",
    "\n",
    "    def get_nascimento(self):\n",
    "        return self.__nascimento\n",
    "    def set_nascimento(self, novo):\n",
    "        self.__nascimento = novo\n",
    "\n",
    "    "
   ]
  }
 ],
 "metadata": {
  "kernelspec": {
   "display_name": "Python 3.10.7 64-bit",
   "language": "python",
   "name": "python3"
  },
  "language_info": {
   "name": "python",
   "version": "3.10.7"
  },
  "orig_nbformat": 4,
  "vscode": {
   "interpreter": {
    "hash": "369f2c481f4da34e4445cda3fffd2e751bd1c4d706f27375911949ba6bb62e1c"
   }
  }
 },
 "nbformat": 4,
 "nbformat_minor": 2
}
