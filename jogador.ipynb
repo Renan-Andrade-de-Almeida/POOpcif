{
 "cells": [
  {
   "cell_type": "code",
   "execution_count": 20,
   "metadata": {},
   "outputs": [],
   "source": [
    "import datetime"
   ]
  },
  {
   "cell_type": "code",
   "execution_count": 21,
   "metadata": {},
   "outputs": [],
   "source": [
    "class Jogador:\n",
    "    def __init__(self, nome, nacionalidade, altura, peso, posicao, nascimento):\n",
    "        self.__nome = nome\n",
    "        self.__nacionalidade = nacionalidade\n",
    "        self.__altura = altura #cm\n",
    "        self.__peso = peso #kg\n",
    "        self.__posicao = posicao\n",
    "        self.__nascimento = nascimento #dd/mm/yyyy\n",
    "        self.__idade = (datetime.date.today().year) - (int(self.__nascimento.split(\"/\")[2]))\n",
    "\n",
    "    def get_nome(self):\n",
    "        return self.__nome\n",
    "    def set_nome(self, novo):\n",
    "        self.__nome = novo\n",
    "\n",
    "    def get_nacionalidade(self):\n",
    "        return self.__nacionalidade\n",
    "    def set_nacionalidade(self, novo):\n",
    "        self.__nacionalidade = novo\n",
    "\n",
    "    def get_altura(self):\n",
    "        return self.__altura\n",
    "    def set_altura(self, novo):\n",
    "        self.__altura = novo\n",
    "\n",
    "    def get_peso(self):\n",
    "        return self.__peso\n",
    "    def set_peso(self, novo):\n",
    "        self.__peso = novo\n",
    "\n",
    "    def get_posicao(self):\n",
    "        return self.__posicao\n",
    "    def set_posicao(self, novo):\n",
    "        self.__posicao = novo\n",
    "\n",
    "    def get_nascimento(self):\n",
    "        return self.__nascimento\n",
    "    def set_nascimento(self, novo):\n",
    "        self.__nascimento = novo\n",
    "\n",
    "    \n",
    "    def imprime(self):\n",
    "        print(\"<--- Aí é um Jogadoooooor --->\\n Nome: {}\\n Nacionalidade: {}\\n Altura: {}\\n Peso: {}\\n Posição: {}\\n Data de Nascimento: {}\".format(self.__nome, self.__nacionalidade, self.__altura, self.__peso, self.__posicao, self.__nascimento))\n",
    "\n",
    "    def calculaIdade(self):\n",
    "        if(self.__posicao.lower() == \"atacante\"):\n",
    "            if(self.__idade == 35):\n",
    "                print(\"O jogador está na média de idade para aposentadoria na posição de {}\".format(self.__posicao))\n",
    "            elif(self.__idade > 35):\n",
    "                print(\"O jogador já passa da idade para aposentadoria na posição de {}\".format(self.__posicao))\n",
    "            else:\n",
    "                print(\"Faltam {} anos para esse jogador chegar a média de idade de aposentadoria na posição de {} \".format((35 - self.__idade), self.__posicao))\n",
    "\n",
    "        elif(self.__posicao.lower() == \"meio-campo\"):\n",
    "            if(self.__idade == 38):\n",
    "                print(\"O jogador está na média de idade para aposentadoria na posição de {}\".format(self.__posicao))\n",
    "            elif(self.__idade > 38):\n",
    "                print(\"O jogador já passa da idade para aposentadoria na posição de {}\".format(self.__posicao))\n",
    "            else:\n",
    "                print(\"Faltam {} anos para esse jogador chegar a média de idade de aposentadoria na posição de {} \".format((38 - self.__idade), self.__posicao))\n",
    "\n",
    "        elif(self.__posicao.lower() == \"defesa\"):\n",
    "            if(self.__idade == 40):\n",
    "                print(\"O jogador está na média de idade para aposentadoria na posição de {}\".format(self.__posicao))\n",
    "            elif(self.__idade > 40):\n",
    "                print(\"O jogador já passa da idade para aposentadoria na posição de {}\".format(self.__posicao))\n",
    "            else:\n",
    "                print(\"Faltam {} anos para esse jogador chegar a média de idade de aposentadoria na posição de {} \".format((40 - self.__idade), self.__posicao))\n",
    "        \n",
    "        else:\n",
    "            print(\"A posição >> {} << não é conhecida.\".format(self.__posicao))\n",
    "            return False\n",
    "    "
   ]
  },
  {
   "cell_type": "code",
   "execution_count": 22,
   "metadata": {},
   "outputs": [],
   "source": [
    "Ribamar = Jogador(\"Ribamar\", \"Gol\", 183, 75, \"atacante\", \"12/12/1947\")"
   ]
  },
  {
   "cell_type": "code",
   "execution_count": 23,
   "metadata": {},
   "outputs": [
    {
     "name": "stdout",
     "output_type": "stream",
     "text": [
      "<--- Aí é um Jogadoooooor --->\n",
      " Nome: Ribamar\n",
      " Nacionalidade: Gol\n",
      " Altura: 183\n",
      " Peso: 75\n",
      " Posição: atacante\n",
      " Data de Nascimento: 12/12/1947\n",
      "O jogador já passa da idade para aposentadoria na posição de atacante\n"
     ]
    }
   ],
   "source": [
    "Ribamar.imprime()\n",
    "Ribamar.calculaIdade()"
   ]
  }
 ],
 "metadata": {
  "kernelspec": {
   "display_name": "Python 3.10.6 64-bit",
   "language": "python",
   "name": "python3"
  },
  "language_info": {
   "codemirror_mode": {
    "name": "ipython",
    "version": 3
   },
   "file_extension": ".py",
   "mimetype": "text/x-python",
   "name": "python",
   "nbconvert_exporter": "python",
   "pygments_lexer": "ipython3",
   "version": "3.10.6"
  },
  "orig_nbformat": 4,
  "vscode": {
   "interpreter": {
    "hash": "5b6070c83d296920fc65e9ae97ee64a9ffac525218e228a47c2d79cf3955b9fd"
   }
  }
 },
 "nbformat": 4,
 "nbformat_minor": 2
}
