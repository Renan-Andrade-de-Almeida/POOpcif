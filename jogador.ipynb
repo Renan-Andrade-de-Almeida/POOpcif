{
 "cells": [
  {
   "cell_type": "code",
   "execution_count": 4,
   "metadata": {},
   "outputs": [],
   "source": [
    "class Jogador:\n",
    "    def __init__(self, nome, nacionalidade, altura, peso, posicao, nascimento):\n",
    "        self.__nome = nome\n",
    "        self.__nacionalidade = nacionalidade\n",
    "        self.__altura = altura\n",
    "        self.__peso = peso\n",
    "        self.__posicao = posicao\n",
    "        self.__nascimento = nascimento\n",
    "\n",
    "    def get_nome(self):\n",
    "        return self.__nome\n",
    "    def set_nome(self, novo):\n",
    "        self.__nome = novo\n",
    "\n",
    "    def get_nacionalidade(self):\n",
    "        return self.__nacionalidade\n",
    "    def set_nacionalidade(self, novo):\n",
    "        self.__nacionalidade = novo\n",
    "\n",
    "    def get_altura(self):\n",
    "        return self.__altura\n",
    "    def set_altura(self, novo):\n",
    "        self.__altura = novo\n",
    "\n",
    "    def get_peso(self):\n",
    "        return self.__peso\n",
    "    def set_peso(self, novo):\n",
    "        self.__peso = novo\n",
    "\n",
    "    def get_posicao(self):\n",
    "        return self.__posicao\n",
    "    def set_posicao(self, novo):\n",
    "        self.__posicao = novo\n",
    "\n",
    "    def get_nascimento(self):\n",
    "        return self.__nascimento\n",
    "    def set_nascimento(self, novo):\n",
    "        self.__nascimento = novo\n",
    "\n",
    "    \n",
    "    def imprime(self):\n",
    "        print(\"<--- Aí é um Jogadoooooor --->\\n Nome: {}\\n Nacionalidade: {}\\n Altura: {}\\n Peso: {}\\n Posição: {}\\n Data de Nascimento: {}\".format(self.__nome, self.__nacionalidade, self.__altura, self.__peso, self.__posicao, self.__nascimento))\n",
    "    "
   ]
  },
  {
   "cell_type": "code",
   "execution_count": 5,
   "metadata": {},
   "outputs": [],
   "source": [
    "Ribamar = Jogador(\"Ribamar\", \"Gol\", 1.13, 5, \"De 4\", 77777777)"
   ]
  },
  {
   "cell_type": "code",
   "execution_count": 6,
   "metadata": {},
   "outputs": [
    {
     "name": "stdout",
     "output_type": "stream",
     "text": [
      "<--- Aí é um Jogadoooooor --->\n",
      " Nome: Ribamar\n",
      " Nacionalidade: Gol\n",
      " Altura: 1.13\n",
      " Peso: 5\n",
      " Posição: De 4\n",
      " Data de Nascimento: 77777777\n"
     ]
    }
   ],
   "source": [
    "Ribamar.imprime()"
   ]
  }
 ],
 "metadata": {
  "kernelspec": {
   "display_name": "Python 3.10.6 64-bit",
   "language": "python",
   "name": "python3"
  },
  "language_info": {
   "codemirror_mode": {
    "name": "ipython",
    "version": 3
   },
   "file_extension": ".py",
   "mimetype": "text/x-python",
   "name": "python",
   "nbconvert_exporter": "python",
   "pygments_lexer": "ipython3",
   "version": "3.10.6"
  },
  "orig_nbformat": 4,
  "vscode": {
   "interpreter": {
    "hash": "5b6070c83d296920fc65e9ae97ee64a9ffac525218e228a47c2d79cf3955b9fd"
   }
  }
 },
 "nbformat": 4,
 "nbformat_minor": 2
}
